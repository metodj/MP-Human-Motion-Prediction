{
 "cells": [
  {
   "cell_type": "code",
   "execution_count": 1,
   "metadata": {
    "id": "DYOLuNB7BQf8",
    "colab_type": "code",
    "outputId": "ebe288f1-1c33-4b11-b884-ca2b6ae7b1f0",
    "executionInfo": {
     "status": "ok",
     "timestamp": 1.555956208035E12,
     "user_tz": -120.0,
     "elapsed": 4987.0,
     "user": {
      "displayName": "Rok Šikonja",
      "photoUrl": "",
      "userId": "08390144229917873056"
     }
    },
    "colab": {
     "base_uri": "https://localhost:8080/",
     "height": 34.0
    }
   },
   "outputs": [
    {
     "name": "stdout",
     "output_type": "stream",
     "text": [
      "Mounted at /content/gdrive/\n"
     ]
    }
   ],
   "source": [
    "import os\n",
    "import platform\n",
    "import sys\n",
    "from google.colab import drive\n",
    "drive.mount('/content/gdrive/', force_remount=True)\n",
    "os.chdir(\"./gdrive/My Drive/MP/\")\n",
    "\n",
    "import tensorflow as tf\n",
    "import numpy as np\n",
    "\n",
    "TEST_DIR = \"./data/test/\"\n",
    "VALIDATION_DIR = \"./data/validation/\"\n",
    "TRAINING_DIR = \"./data/training/\""
   ]
  },
  {
   "cell_type": "code",
   "execution_count": 2,
   "metadata": {
    "id": "K8w56bPlJzVP",
    "colab_type": "code",
    "colab": {
     "base_uri": "https://localhost:8080/",
     "height": 34.0
    },
    "outputId": "6d1209a7-4e57-4f02-f087-9bf607568861",
    "executionInfo": {
     "status": "ok",
     "timestamp": 1.555956213593E12,
     "user_tz": -120.0,
     "elapsed": 2478.0,
     "user": {
      "displayName": "Rok Šikonja",
      "photoUrl": "",
      "userId": "08390144229917873056"
     }
    }
   },
   "outputs": [
    {
     "name": "stdout",
     "output_type": "stream",
     "text": [
      "b'TF version: 1.13.1'\n"
     ]
    }
   ],
   "source": [
    "c = tf.constant('TF version: {}'.format(tf.__version__))\n",
    "\n",
    "with tf.Session() as session:\n",
    "    print(session.run(c))"
   ]
  },
  {
   "cell_type": "code",
   "execution_count": 0,
   "metadata": {
    "id": "-zn41ytmN510",
    "colab_type": "code",
    "colab": {}
   },
   "outputs": [],
   "source": [
    ""
   ]
  }
 ],
 "metadata": {
  "colab": {
   "name": "index_test.ipynb",
   "version": "0.3.2",
   "provenance": [],
   "collapsed_sections": []
  },
  "kernelspec": {
   "name": "python3",
   "display_name": "Python 3"
  },
  "accelerator": "GPU"
 },
 "nbformat": 4,
 "nbformat_minor": 0
}
